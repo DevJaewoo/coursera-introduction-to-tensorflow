{
 "cells": [
  {
   "cell_type": "markdown",
   "metadata": {
    "id": "AuW-xg_bTsaF"
   },
   "source": [
    "# Week 1: Using CNN's with the Cats vs Dogs Dataset\n",
    "\n",
    "Welcome to the 1st assignment of the course! This week, you will be using the famous `Cats vs Dogs` dataset to train a model that can classify images of dogs from images of cats. For this, you will create your own Convolutional Neural Network in Tensorflow and leverage Keras' image preprocessing utilities.\n",
    "\n",
    "You will also create some helper functions to move the images around the filesystem so if you are not familiar with the `os` module be sure to take a look a the [docs](https://docs.python.org/3/library/os.html).\n",
    "\n",
    "Let's get started!"
   ]
  },
  {
   "cell_type": "code",
   "execution_count": 1,
   "metadata": {
    "executionInfo": {
     "elapsed": 1562,
     "status": "ok",
     "timestamp": 1659835671248,
     "user": {
      "displayName": "안재우",
      "userId": "13867654493664541052"
     },
     "user_tz": -540
    },
    "id": "dn-6c02VmqiN",
    "tags": [
     "graded"
    ]
   },
   "outputs": [
    {
     "name": "stdout",
     "output_type": "stream",
     "text": [
      "2.9.1\n",
      "[name: \"/device:CPU:0\"\n",
      "device_type: \"CPU\"\n",
      "memory_limit: 268435456\n",
      "locality {\n",
      "}\n",
      "incarnation: 14274154365366496982\n",
      "xla_global_id: -1\n",
      ", name: \"/device:GPU:0\"\n",
      "device_type: \"GPU\"\n",
      "memory_limit: 6298796032\n",
      "locality {\n",
      "  bus_id: 1\n",
      "  links {\n",
      "  }\n",
      "}\n",
      "incarnation: 17062246015337827954\n",
      "physical_device_desc: \"device: 0, name: NVIDIA GeForce RTX 2060 SUPER, pci bus id: 0000:01:00.0, compute capability: 7.5\"\n",
      "xla_global_id: 416903419\n",
      "]\n"
     ]
    }
   ],
   "source": [
    "import os\n",
    "import zipfile\n",
    "import random\n",
    "import shutil\n",
    "import tensorflow as tf\n",
    "from tensorflow.keras.preprocessing.image import ImageDataGenerator\n",
    "from shutil import copyfile\n",
    "import matplotlib.pyplot as plt\n",
    "from tensorflow.python.client import device_lib\n",
    "\n",
    "print(tf.__version__)\n",
    "print(device_lib.list_local_devices())"
   ]
  },
  {
   "cell_type": "markdown",
   "metadata": {
    "id": "bLTQd84RUs1j"
   },
   "source": [
    "Download the dataset from its original source by running the cell below. \n",
    "\n",
    "Note that the `zip` file that contains the images is unzipped under the `/tmp` directory."
   ]
  },
  {
   "cell_type": "code",
   "execution_count": 4,
   "metadata": {
    "colab": {
     "base_uri": "https://localhost:8080/"
    },
    "executionInfo": {
     "elapsed": 21843,
     "status": "ok",
     "timestamp": 1659835693084,
     "user": {
      "displayName": "안재우",
      "userId": "13867654493664541052"
     },
     "user_tz": -540
    },
    "id": "3sd9dQWa23aj",
    "lines_to_next_cell": 2,
    "outputId": "cb4cde7b-693b-4cab-d673-214ebae824e2",
    "tags": []
   },
   "outputs": [],
   "source": [
    "import wget\n",
    "# If the URL doesn't work, visit https://www.microsoft.com/en-us/download/confirmation.aspx?id=54765\n",
    "# And right click on the 'Download Manually' link to get a new URL to the dataset\n",
    "\n",
    "# Note: This is a very large dataset and will take some time to download\n",
    "\n",
    "url = 'https://download.microsoft.com/download/3/E/1/3E1C3F21-ECDB-4869-8368-6DEBA77B919F/kagglecatsanddogs_5340.zip'\n",
    "# !wget --no-check-certificate \\\n",
    "#     \"\" \\\n",
    "#     -O \"/tmp/cats-and-dogs.zip\"\n",
    "wget.download(url)\n",
    "\n",
    "local_zip = './kagglecatsanddogs_5340.zip'\n",
    "zip_ref   = zipfile.ZipFile(local_zip, 'r')\n",
    "zip_ref.extractall('./tmp/')\n",
    "zip_ref.close()"
   ]
  },
  {
   "cell_type": "markdown",
   "metadata": {
    "id": "e_HsUV9WVJHL"
   },
   "source": [
    "Now the images are stored within the `/tmp/PetImages` directory. There is a subdirectory for each class, so one for dogs and one for cats."
   ]
  },
  {
   "cell_type": "code",
   "execution_count": 5,
   "metadata": {
    "colab": {
     "base_uri": "https://localhost:8080/"
    },
    "executionInfo": {
     "elapsed": 7,
     "status": "ok",
     "timestamp": 1659835693085,
     "user": {
      "displayName": "안재우",
      "userId": "13867654493664541052"
     },
     "user_tz": -540
    },
    "id": "DM851ZmN28J3",
    "outputId": "d3336123-3ac4-4732-ae73-980f6bb460da",
    "tags": [
     "graded"
    ]
   },
   "outputs": [
    {
     "name": "stdout",
     "output_type": "stream",
     "text": [
      "There are 12501 images of dogs.\n",
      "There are 12501 images of cats.\n"
     ]
    },
    {
     "name": "stderr",
     "output_type": "stream",
     "text": [
      "파일을 찾을 수 없습니다-./PETIMAGES/\n",
      "파일을 찾을 수 없습니다--TYPE\n",
      "파일을 찾을 수 없습니다-F\n",
      "파일을 찾을 수 없습니다-!\n",
      "파일을 찾을 수 없습니다--NAME\n",
      "파일을 찾을 수 없습니다--EXEC\n",
      "파일을 찾을 수 없습니다-RM\n",
      "파일을 찾을 수 없습니다-{}\n",
      "파일을 찾을 수 없습니다-+\n"
     ]
    }
   ],
   "source": [
    "source_path = './tmp/PetImages'\n",
    "\n",
    "source_path_dogs = os.path.join(source_path, 'Dog')\n",
    "source_path_cats = os.path.join(source_path, 'Cat')\n",
    "\n",
    "# Deletes all non-image files (there are two .db files bundled into the dataset)\n",
    "!find ./PetImages/ -type f ! -name \"*.jpg\" -exec rm {} +\n",
    "\n",
    "# os.listdir returns a list containing all files under the given path\n",
    "print(f\"There are {len(os.listdir(source_path_dogs))} images of dogs.\")\n",
    "print(f\"There are {len(os.listdir(source_path_cats))} images of cats.\")"
   ]
  },
  {
   "cell_type": "markdown",
   "metadata": {
    "id": "G7dI86rmRGmC"
   },
   "source": [
    "**Expected Output:**\n",
    "\n",
    "```\n",
    "There are 12501 images of dogs.\n",
    "There are 12501 images of cats.\n",
    "```"
   ]
  },
  {
   "cell_type": "markdown",
   "metadata": {
    "id": "iFbMliudNIjW"
   },
   "source": [
    "You will need a directory for cats-v-dogs, and subdirectories for training\n",
    "and validation. These in turn will need subdirectories for 'cats' and 'dogs'. To accomplish this, complete the `create_train_val_dirs` below:"
   ]
  },
  {
   "cell_type": "code",
   "execution_count": 2,
   "metadata": {
    "cellView": "code",
    "executionInfo": {
     "elapsed": 5,
     "status": "ok",
     "timestamp": 1659835693085,
     "user": {
      "displayName": "안재우",
      "userId": "13867654493664541052"
     },
     "user_tz": -540
    },
    "id": "F-QkLjxpmyK2",
    "tags": [
     "graded"
    ]
   },
   "outputs": [],
   "source": [
    "# Define root directory\n",
    "root_dir = './tmp/cats-v-dogs'\n",
    "\n",
    "# Empty directory to prevent FileExistsError is the function is run several times\n",
    "if os.path.exists(root_dir):\n",
    "  shutil.rmtree(root_dir)\n",
    "\n",
    "# GRADED FUNCTION: create_train_val_dirs\n",
    "def create_train_val_dirs(root_path):\n",
    "  \"\"\"\n",
    "  Creates directories for the train and test sets\n",
    "  \n",
    "  Args:\n",
    "    root_path (string) - the base directory path to create subdirectories from\n",
    "  \n",
    "  Returns:\n",
    "    None\n",
    "  \"\"\"  \n",
    "  ### START CODE HERE\n",
    "\n",
    "  # HINT:\n",
    "  # Use os.makedirs to create your directories with intermediate subdirectories\n",
    "  # Don't hardcode the paths. Use os.path.join to append the new directories to the root_path parameter\n",
    "\n",
    "  os.mkdir(root_path)\n",
    "\n",
    "  train_path = os.path.join(root_path, 'training')\n",
    "  validation_path = os.path.join(root_path, 'validation')\n",
    "\n",
    "  os.mkdir(train_path)\n",
    "  os.mkdir(os.path.join(train_path, 'cats'))\n",
    "  os.mkdir(os.path.join(train_path, 'dogs'))\n",
    "\n",
    "  os.mkdir(validation_path)\n",
    "  os.mkdir(os.path.join(validation_path, 'cats'))\n",
    "  os.mkdir(os.path.join(validation_path, 'dogs'))\n",
    "\n",
    "  ### END CODE HERE\n",
    "\n",
    "  \n",
    "try:\n",
    "  create_train_val_dirs(root_path=root_dir)\n",
    "except FileExistsError:\n",
    "  print(\"You should not be seeing this since the upper directory is removed beforehand\")"
   ]
  },
  {
   "cell_type": "code",
   "execution_count": 3,
   "metadata": {
    "colab": {
     "base_uri": "https://localhost:8080/"
    },
    "executionInfo": {
     "elapsed": 5,
     "status": "ok",
     "timestamp": 1659835693085,
     "user": {
      "displayName": "안재우",
      "userId": "13867654493664541052"
     },
     "user_tz": -540
    },
    "id": "5dhtL344OK00",
    "outputId": "bf36e9a9-001d-4657-d48d-f1b00b44a7e4",
    "tags": [
     "graded"
    ]
   },
   "outputs": [
    {
     "name": "stdout",
     "output_type": "stream",
     "text": [
      "./cats-v-dogs\\training\n",
      "./cats-v-dogs\\validation\n",
      "./cats-v-dogs\\training\\cats\n",
      "./cats-v-dogs\\training\\dogs\n",
      "./cats-v-dogs\\validation\\cats\n",
      "./cats-v-dogs\\validation\\dogs\n"
     ]
    }
   ],
   "source": [
    "# Test your create_train_val_dirs function\n",
    "\n",
    "for rootdir, dirs, files in os.walk(root_dir):\n",
    "    for subdir in dirs:\n",
    "        print(os.path.join(rootdir, subdir))"
   ]
  },
  {
   "cell_type": "markdown",
   "metadata": {
    "id": "D7A0RK3IQsvg"
   },
   "source": [
    "**Expected Output (directory order might vary):**\n",
    "\n",
    "``` txt\n",
    "/tmp/cats-v-dogs/training\n",
    "/tmp/cats-v-dogs/validation\n",
    "/tmp/cats-v-dogs/training/cats\n",
    "/tmp/cats-v-dogs/training/dogs\n",
    "/tmp/cats-v-dogs/validation/cats\n",
    "/tmp/cats-v-dogs/validation/dogs\n",
    "\n",
    "```"
   ]
  },
  {
   "cell_type": "markdown",
   "metadata": {
    "id": "R93T7HdE5txZ"
   },
   "source": [
    "Code the `split_data` function which takes in the following arguments:\n",
    "- SOURCE_DIR: directory containing the files\n",
    "\n",
    "- TRAINING_DIR: directory that a portion of the files will be copied to (will be used for training)\n",
    "- VALIDATION_DIR: directory that a portion of the files will be copied to (will be used for validation)\n",
    "- SPLIT_SIZE: determines the portion of images used for training.\n",
    "\n",
    "The files should be randomized, so that the training set is a random sample of the files, and the validation set is made up of the remaining files.\n",
    "\n",
    "For example, if `SOURCE_DIR` is `PetImages/Cat`, and `SPLIT_SIZE` is .9 then 90% of the images in `PetImages/Cat` will be copied to the `TRAINING_DIR` directory\n",
    "and 10% of the images will be copied to the `VALIDATION_DIR` directory.\n",
    "\n",
    "All images should be checked before the copy, so if they have a zero file length, they will be omitted from the copying process. If this is the case then your function should print out a message such as `\"filename is zero length, so ignoring.\"`. **You should perform this check before the split so that only non-zero images are considered when doing the actual split.**\n",
    "\n",
    "\n",
    "Hints:\n",
    "\n",
    "- `os.listdir(DIRECTORY)` returns a list with the contents of that directory.\n",
    "\n",
    "- `os.path.getsize(PATH)` returns the size of the file\n",
    "\n",
    "- `copyfile(source, destination)` copies a file from source to destination\n",
    "\n",
    "- `random.sample(list, len(list))` shuffles a list"
   ]
  },
  {
   "cell_type": "code",
   "execution_count": 4,
   "metadata": {
    "cellView": "code",
    "executionInfo": {
     "elapsed": 4,
     "status": "ok",
     "timestamp": 1659835693085,
     "user": {
      "displayName": "안재우",
      "userId": "13867654493664541052"
     },
     "user_tz": -540
    },
    "id": "zvSODo0f9LaU",
    "tags": [
     "graded"
    ]
   },
   "outputs": [],
   "source": [
    "# GRADED FUNCTION: split_data\n",
    "def split_data(SOURCE_DIR, TRAINING_DIR, VALIDATION_DIR, SPLIT_SIZE):\n",
    "  \"\"\"\n",
    "  Splits the data into train and test sets\n",
    "  \n",
    "  Args:\n",
    "    SOURCE_DIR (string): directory path containing the images\n",
    "    TRAINING_DIR (string): directory path to be used for training\n",
    "    VALIDATION_DIR (string): directory path to be used for validation\n",
    "    SPLIT_SIZE (float): proportion of the dataset to be used for training\n",
    "    \n",
    "  Returns:\n",
    "    None\n",
    "  \"\"\"\n",
    "\n",
    "  ### START CODE HERE\n",
    "  img_list = os.listdir(SOURCE_DIR)\n",
    "\n",
    "  for i in img_list:\n",
    "    if(os.path.getsize(os.path.join(SOURCE_DIR, i)) == 0):\n",
    "      print(i, 'is zero length, so ignoring.')\n",
    "      img_list.remove(i)\n",
    "\n",
    "  length = len(img_list)\n",
    "  split_index = (int)(length * SPLIT_SIZE)\n",
    "\n",
    "  random_list = random.sample(img_list, length)\n",
    "  train_list = random_list[:split_index]\n",
    "  validation_list = random_list[split_index:]\n",
    "\n",
    "  for i in train_list:\n",
    "    copyfile(os.path.join(SOURCE_DIR, i), os.path.join(TRAINING_DIR, i))\n",
    "\n",
    "  for i in validation_list:\n",
    "    copyfile(os.path.join(SOURCE_DIR, i), os.path.join(VALIDATION_DIR, i))\n",
    "\n",
    "  ### END CODE HERE\n"
   ]
  },
  {
   "cell_type": "code",
   "execution_count": 7,
   "metadata": {
    "colab": {
     "base_uri": "https://localhost:8080/"
    },
    "executionInfo": {
     "elapsed": 4805,
     "status": "ok",
     "timestamp": 1659835697887,
     "user": {
      "displayName": "안재우",
      "userId": "13867654493664541052"
     },
     "user_tz": -540
    },
    "id": "FlIdoUeX9S-9",
    "outputId": "50eddbbf-6d19-4827-8474-045c8c500cae",
    "tags": [
     "graded"
    ]
   },
   "outputs": [
    {
     "name": "stdout",
     "output_type": "stream",
     "text": [
      "666.jpg is zero length, so ignoring.\n",
      "11702.jpg is zero length, so ignoring.\n",
      "\n",
      "\n",
      "Original cat's directory has 12500 images\n",
      "Original dog's directory has 12500 images\n",
      "\n",
      "There are 11249 images of cats for training\n",
      "There are 11249 images of dogs for training\n",
      "There are 1250 images of cats for validation\n",
      "There are 1250 images of dogs for validation\n"
     ]
    }
   ],
   "source": [
    "# Test your split_data function\n",
    "\n",
    "# Define paths\n",
    "CAT_SOURCE_DIR = \"./tmp/PetImages/Cat/\"\n",
    "DOG_SOURCE_DIR = \"./tmp/PetImages/Dog/\"\n",
    "\n",
    "TRAINING_DIR = \"./tmp/cats-v-dogs/training/\"\n",
    "VALIDATION_DIR = \"./tmp/cats-v-dogs/validation/\"\n",
    "\n",
    "TRAINING_CATS_DIR = os.path.join(TRAINING_DIR, \"cats/\")\n",
    "VALIDATION_CATS_DIR = os.path.join(VALIDATION_DIR, \"cats/\")\n",
    "\n",
    "TRAINING_DOGS_DIR = os.path.join(TRAINING_DIR, \"dogs/\")\n",
    "VALIDATION_DOGS_DIR = os.path.join(VALIDATION_DIR, \"dogs/\")\n",
    "\n",
    "# Empty directories in case you run this cell multiple times\n",
    "# if len(os.listdir(TRAINING_CATS_DIR)) > 0:\n",
    "#   for file in os.scandir(TRAINING_CATS_DIR):\n",
    "#     os.remove(file.path)\n",
    "# if len(os.listdir(TRAINING_DOGS_DIR)) > 0:\n",
    "#   for file in os.scandir(TRAINING_DOGS_DIR):\n",
    "#     os.remove(file.path)\n",
    "# if len(os.listdir(VALIDATION_CATS_DIR)) > 0:\n",
    "#   for file in os.scandir(VALIDATION_CATS_DIR):\n",
    "#     os.remove(file.path)\n",
    "# if len(os.listdir(VALIDATION_DOGS_DIR)) > 0:\n",
    "#   for file in os.scandir(VALIDATION_DOGS_DIR):\n",
    "#     os.remove(file.path)\n",
    "\n",
    "# Define proportion of images used for training\n",
    "split_size = .9\n",
    "\n",
    "# Run the function\n",
    "# NOTE: Messages about zero length images should be printed out\n",
    "split_data(CAT_SOURCE_DIR, TRAINING_CATS_DIR, VALIDATION_CATS_DIR, split_size)\n",
    "split_data(DOG_SOURCE_DIR, TRAINING_DOGS_DIR, VALIDATION_DOGS_DIR, split_size)\n",
    "\n",
    "# Check that the number of images matches the expected output\n",
    "\n",
    "# Your function should perform copies rather than moving images so original directories should contain unchanged images\n",
    "print(f\"\\n\\nOriginal cat's directory has {len(os.listdir(CAT_SOURCE_DIR))} images\")\n",
    "print(f\"Original dog's directory has {len(os.listdir(DOG_SOURCE_DIR))} images\\n\")\n",
    "\n",
    "# Training and validation splits\n",
    "print(f\"There are {len(os.listdir(TRAINING_CATS_DIR))} images of cats for training\")\n",
    "print(f\"There are {len(os.listdir(TRAINING_DOGS_DIR))} images of dogs for training\")\n",
    "print(f\"There are {len(os.listdir(VALIDATION_CATS_DIR))} images of cats for validation\")\n",
    "print(f\"There are {len(os.listdir(VALIDATION_DOGS_DIR))} images of dogs for validation\")"
   ]
  },
  {
   "cell_type": "markdown",
   "metadata": {
    "id": "hvskJNOFVSaz"
   },
   "source": [
    "**Expected Output:**\n",
    "\n",
    "```\n",
    "666.jpg is zero length, so ignoring.\n",
    "11702.jpg is zero length, so ignoring.\n",
    "\n",
    "\n",
    "Original cat's directory has 12500 images\n",
    "Original dog's directory has 12500 images\n",
    "\n",
    "There are 11249 images of cats for training\n",
    "There are 11249 images of dogs for training\n",
    "There are 1250 images of cats for validation\n",
    "There are 1250 images of dogs for validation\n",
    "```"
   ]
  },
  {
   "cell_type": "markdown",
   "metadata": {
    "id": "Zil4QmOD_mXF"
   },
   "source": [
    "Now that you have successfully organized the data in a way that can be easily fed to Keras' `ImageDataGenerator`, it is time for you to code the generators that will yield batches of images, both for training and validation. For this, complete the `train_val_generators` function below.\n",
    "\n",
    "Something important to note is that the images in this dataset come in a variety of resolutions. Luckily, the `flow_from_directory` method allows you to standarize this by defining a tuple called `target_size` that will be used to convert each image to this target resolution. **For this exercise, use a `target_size` of (150, 150)**.\n",
    "\n",
    "**Hint:** \n",
    "\n",
    "Don't use data augmentation by setting extra parameters when you instantiate the `ImageDataGenerator` class. This will make the training of your model to take longer to reach the necessary accuracy threshold to pass this assignment and this topic will be covered in the next week."
   ]
  },
  {
   "cell_type": "code",
   "execution_count": 8,
   "metadata": {
    "cellView": "code",
    "executionInfo": {
     "elapsed": 9,
     "status": "ok",
     "timestamp": 1659835697888,
     "user": {
      "displayName": "안재우",
      "userId": "13867654493664541052"
     },
     "user_tz": -540
    },
    "id": "fQrZfVgz4j2g",
    "tags": [
     "graded"
    ]
   },
   "outputs": [],
   "source": [
    "# GRADED FUNCTION: train_val_generators\n",
    "def train_val_generators(TRAINING_DIR, VALIDATION_DIR):\n",
    "  \"\"\"\n",
    "  Creates the training and validation data generators\n",
    "  \n",
    "  Args:\n",
    "    TRAINING_DIR (string): directory path containing the training images\n",
    "    VALIDATION_DIR (string): directory path containing the testing/validation images\n",
    "    \n",
    "  Returns:\n",
    "    train_generator, validation_generator - tuple containing the generators\n",
    "  \"\"\"\n",
    "  ### START CODE HERE\n",
    "\n",
    "  # Instantiate the ImageDataGenerator class (don't forget to set the rescale argument)\n",
    "  train_datagen = ImageDataGenerator(rescale=1./255)\n",
    "\n",
    "  # Pass in the appropiate arguments to the flow_from_directory method\n",
    "  train_generator = train_datagen.flow_from_directory(directory=TRAINING_DIR,\n",
    "                                                      batch_size=750,\n",
    "                                                      class_mode='binary',\n",
    "                                                      target_size=(150, 150))\n",
    "\n",
    "  # Instantiate the ImageDataGenerator class (don't forget to set the rescale argument)\n",
    "  validation_datagen = ImageDataGenerator(rescale=1./255)\n",
    "\n",
    "  # Pass in the appropiate arguments to the flow_from_directory method\n",
    "  validation_generator = validation_datagen.flow_from_directory(directory=VALIDATION_DIR,\n",
    "                                                                batch_size=75,\n",
    "                                                                class_mode='binary',\n",
    "                                                                target_size=(150, 150))\n",
    "  ### END CODE HERE\n",
    "  return train_generator, validation_generator\n"
   ]
  },
  {
   "cell_type": "code",
   "execution_count": 9,
   "metadata": {
    "colab": {
     "base_uri": "https://localhost:8080/"
    },
    "executionInfo": {
     "elapsed": 624,
     "status": "ok",
     "timestamp": 1659835698504,
     "user": {
      "displayName": "안재우",
      "userId": "13867654493664541052"
     },
     "user_tz": -540
    },
    "id": "qM7FxrjGiobD",
    "outputId": "996e7025-d62f-4d4a-dd4a-25dc503262fa",
    "tags": [
     "graded"
    ]
   },
   "outputs": [
    {
     "name": "stdout",
     "output_type": "stream",
     "text": [
      "Found 22498 images belonging to 2 classes.\n",
      "Found 2500 images belonging to 2 classes.\n"
     ]
    }
   ],
   "source": [
    "# Test your generators\n",
    "train_generator, validation_generator = train_val_generators(TRAINING_DIR, VALIDATION_DIR)"
   ]
  },
  {
   "cell_type": "markdown",
   "metadata": {
    "id": "tiPNmSfZjHwJ"
   },
   "source": [
    "**Expected Output:**\n",
    "\n",
    "```\n",
    "Found 22498 images belonging to 2 classes.\n",
    "Found 2500 images belonging to 2 classes.\n",
    "```\n"
   ]
  },
  {
   "cell_type": "markdown",
   "metadata": {
    "id": "TI3oEmyQCZoO"
   },
   "source": [
    "One last step before training is to define the architecture of the model that will be trained.\n",
    "\n",
    "Complete the `create_model` function below which should return a Keras' `Sequential` model.\n",
    "\n",
    "Aside from defining the architecture of the model, you should also compile it so make sure to use a `loss` function that is compatible with the `class_mode` you defined in the previous exercise, which should also be compatible with the output of your network. You can tell if they aren't compatible if you get an error during training.\n",
    "\n",
    "**Note that you should use at least 3 convolution layers to achieve the desired performance.**"
   ]
  },
  {
   "cell_type": "code",
   "execution_count": 10,
   "metadata": {
    "cellView": "code",
    "executionInfo": {
     "elapsed": 450,
     "status": "ok",
     "timestamp": 1659835698953,
     "user": {
      "displayName": "안재우",
      "userId": "13867654493664541052"
     },
     "user_tz": -540
    },
    "id": "oDPK8tUB_O9e",
    "lines_to_next_cell": 2,
    "tags": [
     "graded"
    ]
   },
   "outputs": [],
   "source": [
    "# GRADED FUNCTION: create_model\n",
    "def create_model():\n",
    "  # DEFINE A KERAS MODEL TO CLASSIFY CATS V DOGS\n",
    "  # USE AT LEAST 3 CONVOLUTION LAYERS\n",
    "\n",
    "  ### START CODE HERE\n",
    "\n",
    "  model = tf.keras.models.Sequential([ \n",
    "      tf.keras.layers.Conv2D(filters=16, kernel_size=[3, 3], activation=tf.nn.relu, input_shape=[150, 150, 3]),\n",
    "      tf.keras.layers.MaxPooling2D(2, 2),\n",
    "      tf.keras.layers.Conv2D(filters=32, kernel_size=[3, 3], activation=tf.nn.relu),\n",
    "      tf.keras.layers.MaxPooling2D(2, 2),\n",
    "      tf.keras.layers.Conv2D(filters=64, kernel_size=[3, 3], activation=tf.nn.relu),\n",
    "      tf.keras.layers.MaxPooling2D(2, 2),\n",
    "      tf.keras.layers.Conv2D(filters=64, kernel_size=[3, 3], activation=tf.nn.relu),\n",
    "      tf.keras.layers.MaxPooling2D(2, 2),\n",
    "      tf.keras.layers.Flatten(),\n",
    "      tf.keras.layers.Dense(units=512, activation=tf.nn.relu),\n",
    "      tf.keras.layers.Dense(units=1, activation=tf.nn.sigmoid),\n",
    "  ])\n",
    "\n",
    "  model.compile(optimizer=tf.optimizers.RMSprop(learning_rate=0.002),\n",
    "                loss=tf.losses.binary_crossentropy,\n",
    "                metrics=['accuracy']) \n",
    "    \n",
    "  ### END CODE HERE\n",
    "\n",
    "  return model"
   ]
  },
  {
   "cell_type": "markdown",
   "metadata": {
    "id": "SMFNJZmTCZv6"
   },
   "source": [
    "Now it is time to train your model!\n",
    "\n",
    "**Note:** You can ignore the `UserWarning: Possibly corrupt EXIF data.` warnings."
   ]
  },
  {
   "cell_type": "code",
   "execution_count": 12,
   "metadata": {
    "colab": {
     "base_uri": "https://localhost:8080/"
    },
    "id": "5qE1G6JB4fMn",
    "outputId": "98dba126-b0b1-4b57-b2d8-528795505f6d",
    "tags": []
   },
   "outputs": [
    {
     "name": "stdout",
     "output_type": "stream",
     "text": [
      "Epoch 1/40\n",
      "30/30 [==============================] - 29s 934ms/step - loss: 0.9504 - accuracy: 0.5257 - val_loss: 0.6890 - val_accuracy: 0.5108\n",
      "Epoch 2/40\n",
      "30/30 [==============================] - 28s 929ms/step - loss: 0.6936 - accuracy: 0.5598 - val_loss: 0.6772 - val_accuracy: 0.5628\n",
      "Epoch 3/40\n",
      "30/30 [==============================] - 28s 933ms/step - loss: 0.6848 - accuracy: 0.5670 - val_loss: 0.7562 - val_accuracy: 0.5292\n",
      "Epoch 4/40\n",
      "30/30 [==============================] - 28s 940ms/step - loss: 0.6835 - accuracy: 0.5891 - val_loss: 0.6436 - val_accuracy: 0.6336\n",
      "Epoch 5/40\n",
      "30/30 [==============================] - 28s 930ms/step - loss: 0.6280 - accuracy: 0.6456 - val_loss: 0.6043 - val_accuracy: 0.6436\n",
      "Epoch 6/40\n",
      "30/30 [==============================] - 28s 941ms/step - loss: 0.6068 - accuracy: 0.6698 - val_loss: 0.5840 - val_accuracy: 0.7024\n",
      "Epoch 7/40\n",
      "30/30 [==============================] - 28s 935ms/step - loss: 0.5685 - accuracy: 0.7015 - val_loss: 0.5502 - val_accuracy: 0.7180\n",
      "Epoch 8/40\n",
      "30/30 [==============================] - 28s 930ms/step - loss: 0.5443 - accuracy: 0.7181 - val_loss: 0.5234 - val_accuracy: 0.7408\n",
      "Epoch 9/40\n",
      "30/30 [==============================] - 28s 940ms/step - loss: 0.5517 - accuracy: 0.7272 - val_loss: 0.5089 - val_accuracy: 0.7556\n",
      "Epoch 10/40\n",
      "30/30 [==============================] - 28s 942ms/step - loss: 0.5118 - accuracy: 0.7478 - val_loss: 0.6010 - val_accuracy: 0.7020\n",
      "Epoch 11/40\n",
      "30/30 [==============================] - 28s 940ms/step - loss: 0.5046 - accuracy: 0.7527 - val_loss: 0.4671 - val_accuracy: 0.7752\n",
      "Epoch 12/40\n",
      "30/30 [==============================] - 28s 941ms/step - loss: 0.4586 - accuracy: 0.7774 - val_loss: 0.4350 - val_accuracy: 0.7992\n",
      "Epoch 13/40\n",
      "30/30 [==============================] - 28s 941ms/step - loss: 0.4615 - accuracy: 0.7819 - val_loss: 0.5235 - val_accuracy: 0.7440\n",
      "Epoch 14/40\n",
      "30/30 [==============================] - 28s 940ms/step - loss: 0.4146 - accuracy: 0.8076 - val_loss: 0.3989 - val_accuracy: 0.8216\n",
      "Epoch 15/40\n",
      "30/30 [==============================] - 28s 938ms/step - loss: 0.4108 - accuracy: 0.8095 - val_loss: 0.4974 - val_accuracy: 0.7500\n",
      "Epoch 16/40\n",
      "30/30 [==============================] - 28s 937ms/step - loss: 0.3860 - accuracy: 0.8223 - val_loss: 0.3671 - val_accuracy: 0.8400\n",
      "Epoch 17/40\n",
      "30/30 [==============================] - 28s 938ms/step - loss: 0.3759 - accuracy: 0.8295 - val_loss: 0.3767 - val_accuracy: 0.8284\n",
      "Epoch 18/40\n",
      "30/30 [==============================] - 29s 948ms/step - loss: 0.3502 - accuracy: 0.8408 - val_loss: 0.3780 - val_accuracy: 0.8256\n",
      "Epoch 19/40\n",
      "30/30 [==============================] - 28s 940ms/step - loss: 0.3403 - accuracy: 0.8486 - val_loss: 0.4943 - val_accuracy: 0.7536\n",
      "Epoch 20/40\n",
      "30/30 [==============================] - 29s 949ms/step - loss: 0.3135 - accuracy: 0.8612 - val_loss: 0.4022 - val_accuracy: 0.8236\n",
      "Epoch 21/40\n",
      "30/30 [==============================] - 28s 939ms/step - loss: 0.3091 - accuracy: 0.8632 - val_loss: 0.3839 - val_accuracy: 0.8212\n",
      "Epoch 22/40\n",
      "30/30 [==============================] - 29s 946ms/step - loss: 0.2550 - accuracy: 0.8922 - val_loss: 0.3942 - val_accuracy: 0.8216\n",
      "Epoch 23/40\n",
      "30/30 [==============================] - 29s 976ms/step - loss: 0.2668 - accuracy: 0.8853 - val_loss: 0.4117 - val_accuracy: 0.7992\n",
      "Epoch 24/40\n",
      "30/30 [==============================] - 30s 978ms/step - loss: 0.2456 - accuracy: 0.8978 - val_loss: 0.3848 - val_accuracy: 0.8472\n",
      "Epoch 25/40\n",
      "30/30 [==============================] - 29s 946ms/step - loss: 0.2437 - accuracy: 0.8976 - val_loss: 0.3310 - val_accuracy: 0.8644\n",
      "Epoch 26/40\n",
      "30/30 [==============================] - 28s 940ms/step - loss: 0.2021 - accuracy: 0.9159 - val_loss: 0.4253 - val_accuracy: 0.8416\n",
      "Epoch 27/40\n",
      "30/30 [==============================] - 28s 937ms/step - loss: 0.2025 - accuracy: 0.9175 - val_loss: 0.3591 - val_accuracy: 0.8636\n",
      "Epoch 28/40\n",
      "30/30 [==============================] - 28s 936ms/step - loss: 0.1564 - accuracy: 0.9367 - val_loss: 0.4338 - val_accuracy: 0.8504\n",
      "Epoch 29/40\n",
      "30/30 [==============================] - 28s 932ms/step - loss: 0.1571 - accuracy: 0.9351 - val_loss: 0.5169 - val_accuracy: 0.8168\n",
      "Epoch 30/40\n",
      "30/30 [==============================] - 28s 931ms/step - loss: 0.1628 - accuracy: 0.9336 - val_loss: 0.4144 - val_accuracy: 0.8604\n",
      "Epoch 31/40\n",
      "30/30 [==============================] - 28s 934ms/step - loss: 0.1771 - accuracy: 0.9313 - val_loss: 0.4506 - val_accuracy: 0.8656\n",
      "Epoch 32/40\n",
      "30/30 [==============================] - 28s 934ms/step - loss: 0.1185 - accuracy: 0.9572 - val_loss: 0.6791 - val_accuracy: 0.7460\n",
      "Epoch 33/40\n",
      "30/30 [==============================] - 28s 935ms/step - loss: 0.1793 - accuracy: 0.9286 - val_loss: 0.4453 - val_accuracy: 0.8692\n",
      "Epoch 34/40\n",
      "30/30 [==============================] - 29s 943ms/step - loss: 0.0829 - accuracy: 0.9691 - val_loss: 0.4785 - val_accuracy: 0.8652\n",
      "Epoch 35/40\n",
      "30/30 [==============================] - 28s 939ms/step - loss: 0.1881 - accuracy: 0.9371 - val_loss: 0.5616 - val_accuracy: 0.8604\n",
      "Epoch 36/40\n",
      "30/30 [==============================] - 28s 941ms/step - loss: 0.1335 - accuracy: 0.9478 - val_loss: 0.5974 - val_accuracy: 0.8572\n",
      "Epoch 37/40\n",
      "30/30 [==============================] - 29s 943ms/step - loss: 0.1613 - accuracy: 0.9389 - val_loss: 0.5426 - val_accuracy: 0.8648\n",
      "Epoch 38/40\n",
      "30/30 [==============================] - 28s 942ms/step - loss: 0.0539 - accuracy: 0.9810 - val_loss: 0.6695 - val_accuracy: 0.8680\n",
      "Epoch 39/40\n",
      "30/30 [==============================] - 28s 941ms/step - loss: 0.1835 - accuracy: 0.9379 - val_loss: 0.6194 - val_accuracy: 0.8656\n",
      "Epoch 40/40\n",
      "30/30 [==============================] - 28s 940ms/step - loss: 0.0868 - accuracy: 0.9650 - val_loss: 0.6993 - val_accuracy: 0.8516\n"
     ]
    }
   ],
   "source": [
    "# Get the untrained model\n",
    "model = create_model()\n",
    "\n",
    "# Train the model\n",
    "# Note that this may take some time.\n",
    "history = model.fit(train_generator,\n",
    "                    epochs=40,\n",
    "                    verbose=1,\n",
    "                    validation_data=validation_generator)"
   ]
  },
  {
   "cell_type": "markdown",
   "metadata": {
    "id": "VGsaDMc-GMd4"
   },
   "source": [
    "Once training has finished, you can run the following cell to check the training and validation accuracy achieved at the end of each epoch.\n",
    "\n",
    "**To pass this assignment, your model should achieve a training accuracy of at least 95% and a validation accuracy of at least 80%**. If your model didn't achieve these thresholds, try training again with a different model architecture and remember to use at least 3 convolutional layers."
   ]
  },
  {
   "cell_type": "code",
   "execution_count": 13,
   "metadata": {
    "id": "MWZrJN4-65RC",
    "tags": []
   },
   "outputs": [
    {
     "data": {
      "image/png": "[encoded data removed]",
      "text/plain": [
       "<Figure size 432x288 with 1 Axes>"
      ]
     },
     "metadata": {
      "needs_background": "light"
     },
     "output_type": "display_data"
    },
    {
     "name": "stdout",
     "output_type": "stream",
     "text": [
      "\n"
     ]
    },
    {
     "data": {
      "image/png": "[encoded data removed]",
      "text/plain": [
       "<Figure size 432x288 with 1 Axes>"
      ]
     },
     "metadata": {
      "needs_background": "light"
     },
     "output_type": "display_data"
    }
   ],
   "source": [
    "#-----------------------------------------------------------\n",
    "# Retrieve a list of list results on training and test data\n",
    "# sets for each training epoch\n",
    "#-----------------------------------------------------------\n",
    "acc=history.history['accuracy']\n",
    "val_acc=history.history['val_accuracy']\n",
    "loss=history.history['loss']\n",
    "val_loss=history.history['val_loss']\n",
    "\n",
    "epochs=range(len(acc)) # Get number of epochs\n",
    "\n",
    "#------------------------------------------------\n",
    "# Plot training and validation accuracy per epoch\n",
    "#------------------------------------------------\n",
    "plt.plot(epochs, acc, 'r', \"Training Accuracy\")\n",
    "plt.plot(epochs, val_acc, 'b', \"Validation Accuracy\")\n",
    "plt.title('Training and validation accuracy')\n",
    "plt.show()\n",
    "print(\"\")\n",
    "\n",
    "#------------------------------------------------\n",
    "# Plot training and validation loss per epoch\n",
    "#------------------------------------------------\n",
    "plt.plot(epochs, loss, 'r', \"Training Loss\")\n",
    "plt.plot(epochs, val_loss, 'b', \"Validation Loss\")\n",
    "plt.show()"
   ]
  },
  {
   "cell_type": "markdown",
   "metadata": {
    "id": "NYIaqsN2pav6"
   },
   "source": [
    "You will probably encounter that the model is overfitting, which means that it is doing a great job at classifying the images in the training set but struggles with new data. This is perfectly fine and you will learn how to mitigate this issue in the upcoming week.\n",
    "\n",
    "Before downloading this notebook and closing the assignment, be sure to also download the `history.pkl` file which contains the information of the training history of your model. You can download this file by running the cell below:"
   ]
  },
  {
   "cell_type": "code",
   "execution_count": 15,
   "metadata": {
    "id": "yWcrc9nZTsHj",
    "tags": []
   },
   "outputs": [],
   "source": [
    "def download_history():\n",
    "  import pickle\n",
    "  #from google.colab import files\n",
    "\n",
    "  with open('history.pkl', 'wb') as f:\n",
    "    pickle.dump(history.history, f)\n",
    "\n",
    "  #files.download('history.pkl')\n",
    "\n",
    "download_history()"
   ]
  },
  {
   "cell_type": "markdown",
   "metadata": {
    "id": "uOfQ1yK5XNlu"
   },
   "source": [
    "You will also need to submit this notebook for grading. To download it, click on the `File` tab in the upper left corner of the screen then click on `Download` -> `Download .ipynb`. You can name it anything you want as long as it is a valid `.ipynb` (jupyter notebook) file."
   ]
  },
  {
   "cell_type": "markdown",
   "metadata": {
    "id": "joAaZSWWpbOI"
   },
   "source": [
    "**Congratulations on finishing this week's assignment!**\n",
    "\n",
    "You have successfully implemented a convolutional neural network that classifies images of cats and dogs, along with the helper functions needed to pre-process the images!\n",
    "\n",
    "**Keep it up!**"
   ]
  }
 ],
 "metadata": {
  "accelerator": "TPU",
  "colab": {
   "authorship_tag": "ABX9TyOSnS/+Bd5fqpbNJrMfd+jh",
   "collapsed_sections": [],
   "name": "Assignment.ipynb",
   "provenance": []
  },
  "gpuClass": "standard",
  "kernelspec": {
   "display_name": "Python 3.7(tf-cert)",
   "language": "python",
   "name": "tf-cert"
  },
  "language_info": {
   "codemirror_mode": {
    "name": "ipython",
    "version": 3
   },
   "file_extension": ".py",
   "mimetype": "text/x-python",
   "name": "python",
   "nbconvert_exporter": "python",
   "pygments_lexer": "ipython3",
   "version": "3.7.13"
  }
 },
 "nbformat": 4,
 "nbformat_minor": 1
}
