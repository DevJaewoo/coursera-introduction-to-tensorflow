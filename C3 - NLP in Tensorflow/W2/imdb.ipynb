{
 "cells": [
  {
   "cell_type": "code",
   "execution_count": 26,
   "metadata": {},
   "outputs": [],
   "source": [
    "import tensorflow_datasets as tfds\n",
    "imdb, info = tfds.load('imdb_reviews', with_info=True, as_supervised=True)"
   ]
  },
  {
   "cell_type": "code",
   "execution_count": 11,
   "metadata": {},
   "outputs": [
    {
     "ename": "AttributeError",
     "evalue": "'tuple' object has no attribute 'dtype'",
     "output_type": "error",
     "traceback": [
      "\u001b[0;31m\u001b[0m",
      "\u001b[0;31mAttributeError\u001b[0mTraceback (most recent call last)",
      "\u001b[0;32m<ipython-input-11-b15410279ed2>\u001b[0m in \u001b[0;36m<module>\u001b[0;34m\u001b[0m\n\u001b[1;32m      1\u001b[0m \u001b[0;32mfor\u001b[0m \u001b[0mexample\u001b[0m \u001b[0;32min\u001b[0m \u001b[0mimdb\u001b[0m\u001b[0;34m[\u001b[0m\u001b[0;34m'train'\u001b[0m\u001b[0;34m]\u001b[0m\u001b[0;34m.\u001b[0m\u001b[0mtake\u001b[0m\u001b[0;34m(\u001b[0m\u001b[0;36m1\u001b[0m\u001b[0;34m)\u001b[0m\u001b[0;34m:\u001b[0m\u001b[0;34m\u001b[0m\u001b[0;34m\u001b[0m\u001b[0m\n\u001b[0;32m----> 2\u001b[0;31m     \u001b[0mprint\u001b[0m\u001b[0;34m(\u001b[0m\u001b[0mexample\u001b[0m\u001b[0;34m.\u001b[0m\u001b[0mdtype\u001b[0m\u001b[0;34m)\u001b[0m\u001b[0;34m\u001b[0m\u001b[0;34m\u001b[0m\u001b[0m\n\u001b[0m",
      "\u001b[0;31mAttributeError\u001b[0m: 'tuple' object has no attribute 'dtype'"
     ]
    }
   ],
   "source": [
    "for example in imdb['train'].take(1):\n",
    "    print(example.dtype)"
   ]
  },
  {
   "cell_type": "code",
   "execution_count": 48,
   "metadata": {},
   "outputs": [],
   "source": [
    "import numpy as np\n",
    "\n",
    "train_sentences = []\n",
    "train_labels = []\n",
    "\n",
    "test_sentences = []\n",
    "test_labels = []\n",
    "\n",
    "for i in imdb['train']:\n",
    "    train_sentences.append(i[0].numpy().decode('utf8'))\n",
    "    train_labels.append(i[1].numpy())\n",
    "\n",
    "for i in imdb['test']:\n",
    "    test_sentences.append(i[0].numpy().decode('utf8'))\n",
    "    test_labels.append(i[1].numpy())\n",
    "    \n",
    "train_labels = np.array(train_labels)\n",
    "test_labels = np.array(test_labels)"
   ]
  },
  {
   "cell_type": "code",
   "execution_count": 69,
   "metadata": {},
   "outputs": [
    {
     "name": "stdout",
     "output_type": "stream",
     "text": [
      "25000\n"
     ]
    }
   ],
   "source": [
    "print(len(train_sentences))"
   ]
  },
  {
   "cell_type": "code",
   "execution_count": 38,
   "metadata": {},
   "outputs": [],
   "source": [
    "# Parameters\n",
    "\n",
    "vocab_size = 10000\n",
    "max_length = 120\n",
    "embedding_dim = 16\n",
    "trunc_type='post'\n",
    "oov_tok = \"<OOV>\""
   ]
  },
  {
   "cell_type": "code",
   "execution_count": 39,
   "metadata": {},
   "outputs": [],
   "source": [
    "from tensorflow.keras.preprocessing.text import Tokenizer\n",
    "from tensorflow.keras.preprocessing.sequence import pad_sequences\n",
    "\n",
    "tokenizer = Tokenizer(num_words=vocab_size, oov_token=oov_tok)\n",
    "tokenizer.fit_on_texts(train_sentences)\n",
    "\n",
    "train_padded = pad_sequences(tokenizer.texts_to_sequences(train_sentences), maxlen=max_length, truncating=trunc_type)\n",
    "test_padded = pad_sequences(tokenizer.texts_to_sequences(test_sentences), maxlen=max_length, truncating=trunc_type)"
   ]
  },
  {
   "cell_type": "code",
   "execution_count": 40,
   "metadata": {},
   "outputs": [
    {
     "name": "stdout",
     "output_type": "stream",
     "text": [
      "[   0    0    0   12   14   33  425  392   18   90   28    1    9   32\n",
      " 1366 3585   40  486    1  197   24   85  154   19   12  213  329   28\n",
      "   66  247  215    9  477   58   66   85  114   98   22 5675   12 1322\n",
      "  643  767   12   18    7   33  400 8170  176 2455  416    2   89 1231\n",
      "  137   69  146   52    2    1 7577   69  229   66 2933   16    1 2904\n",
      "    1    1 1479 4940    3   39 3900  117 1584   17 3585   14  162   19\n",
      "    4 1231  917 7917    9    4   18   13   14 4139    5   99  145 1214\n",
      "   11  242  683   13   48   24  100   38   12 7181 5515   38 1366    1\n",
      "   50  401   11   98 1197  867  141   10]\n"
     ]
    }
   ],
   "source": [
    "print(train_padded[0])"
   ]
  },
  {
   "cell_type": "code",
   "execution_count": 44,
   "metadata": {},
   "outputs": [],
   "source": [
    "import tensorflow as tf\n",
    "\n",
    "model = tf.keras.Sequential([\n",
    "    tf.keras.layers.Embedding(vocab_size, embedding_dim, input_length=max_length),\n",
    "    tf.keras.layers.Flatten(),\n",
    "    tf.keras.layers.Dense(units=6, activation='relu'),\n",
    "    tf.keras.layers.Dense(units=1, activation='sigmoid')\n",
    "])\n",
    "\n",
    "model.compile(loss=tf.keras.losses.binary_crossentropy, optimizer='adam', metrics=['accuracy'])"
   ]
  },
  {
   "cell_type": "code",
   "execution_count": 49,
   "metadata": {},
   "outputs": [
    {
     "name": "stdout",
     "output_type": "stream",
     "text": [
      "Train on 25000 samples, validate on 25000 samples\n",
      "Epoch 1/10\n",
      "25000/25000 [==============================] - 7s 272us/sample - loss: 0.4940 - accuracy: 0.7435 - val_loss: 0.3819 - val_accuracy: 0.8275\n",
      "Epoch 2/10\n",
      "25000/25000 [==============================] - 6s 233us/sample - loss: 0.2406 - accuracy: 0.9068 - val_loss: 0.4021 - val_accuracy: 0.8233\n",
      "Epoch 3/10\n",
      "25000/25000 [==============================] - 6s 233us/sample - loss: 0.0952 - accuracy: 0.9770 - val_loss: 0.5096 - val_accuracy: 0.8067\n",
      "Epoch 4/10\n",
      "25000/25000 [==============================] - 6s 234us/sample - loss: 0.0280 - accuracy: 0.9960 - val_loss: 0.5910 - val_accuracy: 0.8068\n",
      "Epoch 5/10\n",
      "25000/25000 [==============================] - 6s 234us/sample - loss: 0.0110 - accuracy: 0.9984 - val_loss: 0.6640 - val_accuracy: 0.8066\n",
      "Epoch 6/10\n",
      "25000/25000 [==============================] - 6s 232us/sample - loss: 0.0047 - accuracy: 0.9994 - val_loss: 0.7425 - val_accuracy: 0.8007\n",
      "Epoch 7/10\n",
      "25000/25000 [==============================] - 6s 232us/sample - loss: 0.0015 - accuracy: 0.9999 - val_loss: 0.7760 - val_accuracy: 0.8049\n",
      "Epoch 8/10\n",
      "25000/25000 [==============================] - 6s 235us/sample - loss: 6.0411e-04 - accuracy: 1.0000 - val_loss: 0.8326 - val_accuracy: 0.8047\n",
      "Epoch 9/10\n",
      "25000/25000 [==============================] - 6s 235us/sample - loss: 3.1041e-04 - accuracy: 1.0000 - val_loss: 0.8746 - val_accuracy: 0.8064\n",
      "Epoch 10/10\n",
      "25000/25000 [==============================] - 6s 235us/sample - loss: 1.8812e-04 - accuracy: 1.0000 - val_loss: 0.9190 - val_accuracy: 0.8065\n"
     ]
    },
    {
     "data": {
      "text/plain": [
       "<tensorflow.python.keras.callbacks.History at 0x7f2650981fd0>"
      ]
     },
     "execution_count": 49,
     "metadata": {},
     "output_type": "execute_result"
    }
   ],
   "source": [
    "num_epochs=10\n",
    "\n",
    "model.fit(train_padded, train_labels, epochs=num_epochs, validation_data=(test_padded, test_labels))"
   ]
  },
  {
   "cell_type": "code",
   "execution_count": 63,
   "metadata": {},
   "outputs": [
    {
     "data": {
      "text/plain": [
       "array([[0.40712348]], dtype=float32)"
      ]
     },
     "execution_count": 63,
     "metadata": {},
     "output_type": "execute_result"
    }
   ],
   "source": [
    "model.predict(np.array([test_padded[0]]))"
   ]
  },
  {
   "cell_type": "code",
   "execution_count": 64,
   "metadata": {},
   "outputs": [
    {
     "name": "stdout",
     "output_type": "stream",
     "text": [
      "(10000, 16)\n"
     ]
    }
   ],
   "source": [
    "e = model.layers[0]\n",
    "weights = e.get_weights()[0]\n",
    "print(weights.shape)"
   ]
  },
  {
   "cell_type": "code",
   "execution_count": 66,
   "metadata": {},
   "outputs": [],
   "source": [
    "reverse_word_index = tokenizer.index_word"
   ]
  },
  {
   "cell_type": "code",
   "execution_count": 68,
   "metadata": {},
   "outputs": [],
   "source": [
    "import io\n",
    "\n",
    "# Open writeable files\n",
    "out_v = io.open('vecs.tsv', 'w', encoding='utf-8')\n",
    "out_m = io.open('meta.tsv', 'w', encoding='utf-8')\n",
    "\n",
    "# Initialize the loop. Start counting at `1` because `0` is just for the padding\n",
    "for word_num in range(1, vocab_size):\n",
    "\n",
    "  # Get the word associated at the current index\n",
    "  word_name = reverse_word_index[word_num]\n",
    "\n",
    "  # Get the embedding weights associated with the current index\n",
    "  word_embedding = weights[word_num]\n",
    "\n",
    "  # Write the word name\n",
    "  out_m.write(word_name + \"\\n\")\n",
    "\n",
    "  # Write the word embedding\n",
    "  out_v.write('\\t'.join([str(x) for x in word_embedding]) + \"\\n\")\n",
    "\n",
    "# Close the files\n",
    "out_v.close()\n",
    "out_m.close()"
   ]
  },
  {
   "cell_type": "code",
   "execution_count": null,
   "metadata": {},
   "outputs": [],
   "source": []
  }
 ],
 "metadata": {
  "kernelspec": {
   "display_name": "Python 3",
   "language": "python",
   "name": "python3"
  },
  "language_info": {
   "codemirror_mode": {
    "name": "ipython",
    "version": 3
   },
   "file_extension": ".py",
   "mimetype": "text/x-python",
   "name": "python",
   "nbconvert_exporter": "python",
   "pygments_lexer": "ipython3",
   "version": "3.6.9"
  }
 },
 "nbformat": 4,
 "nbformat_minor": 4
}
