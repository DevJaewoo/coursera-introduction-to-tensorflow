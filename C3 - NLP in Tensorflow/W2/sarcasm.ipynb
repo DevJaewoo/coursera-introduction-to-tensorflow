{
 "cells": [
  {
   "cell_type": "code",
   "execution_count": 1,
   "metadata": {
    "scrolled": true
   },
   "outputs": [
    {
     "name": "stdout",
     "output_type": "stream",
     "text": [
      "--2022-09-10 23:27:44--  https://storage.googleapis.com/tensorflow-1-public/course3/sarcasm.json\n",
      "Resolving storage.googleapis.com (storage.googleapis.com)... 34.64.4.80, 34.64.4.48, 34.64.4.16, ...\n",
      "Connecting to storage.googleapis.com (storage.googleapis.com)|34.64.4.80|:443... connected.\n",
      "HTTP request sent, awaiting response... 200 OK\n",
      "Length: 5643545 (5.4M) [application/json]\n",
      "Saving to: ‘sarcasm.json’\n",
      "\n",
      "sarcasm.json        100%[===================>]   5.38M  11.2MB/s    in 0.5s    \n",
      "\n",
      "2022-09-10 23:27:45 (11.2 MB/s) - ‘sarcasm.json’ saved [5643545/5643545]\n",
      "\n"
     ]
    }
   ],
   "source": [
    "# Download the dataset\n",
    "!wget https://storage.googleapis.com/tensorflow-1-public/course3/sarcasm.json"
   ]
  },
  {
   "cell_type": "code",
   "execution_count": 2,
   "metadata": {},
   "outputs": [],
   "source": [
    "import json\n",
    "\n",
    "# Load the JSON file\n",
    "with open(\"./sarcasm.json\", 'r') as f:\n",
    "    datastore = json.load(f)\n",
    "\n",
    "# Initialize the lists\n",
    "sentences = []\n",
    "labels = []\n",
    "\n",
    "# Collect sentences and labels into the lists\n",
    "for item in datastore:\n",
    "    sentences.append(item['headline'])\n",
    "    labels.append(item['is_sarcastic'])"
   ]
  },
  {
   "cell_type": "code",
   "execution_count": 27,
   "metadata": {},
   "outputs": [],
   "source": [
    "# Number of examples to use for training\n",
    "training_size = 20000\n",
    "\n",
    "# Vocabulary size of the tokenizer\n",
    "vocab_size = 20000\n",
    "\n",
    "# Maximum length of the padded sequences\n",
    "max_length = 32\n",
    "\n",
    "# Output dimensions of the Embedding layer\n",
    "embedding_dim = 16"
   ]
  },
  {
   "cell_type": "code",
   "execution_count": 28,
   "metadata": {},
   "outputs": [],
   "source": [
    "# Split the sentences\n",
    "training_sentences = sentences[0:training_size]\n",
    "testing_sentences = sentences[training_size:]\n",
    "\n",
    "# Split the labels\n",
    "training_labels = labels[0:training_size]\n",
    "testing_labels = labels[training_size:]"
   ]
  },
  {
   "cell_type": "code",
   "execution_count": 29,
   "metadata": {},
   "outputs": [],
   "source": [
    "import numpy as np\n",
    "from tensorflow.keras.preprocessing.text import Tokenizer\n",
    "from tensorflow.keras.preprocessing.sequence import pad_sequences\n",
    "\n",
    "# Parameters for padding and OOV tokens\n",
    "trunc_type='post'\n",
    "padding_type='post'\n",
    "oov_tok = \"<OOV>\"\n",
    "\n",
    "# Initialize the Tokenizer class\n",
    "tokenizer = Tokenizer(num_words=vocab_size, oov_token=oov_tok)\n",
    "\n",
    "# Generate the word index dictionary\n",
    "tokenizer.fit_on_texts(training_sentences)\n",
    "word_index = tokenizer.word_index\n",
    "\n",
    "# Generate and pad the training sequences\n",
    "training_sequences = tokenizer.texts_to_sequences(training_sentences)\n",
    "training_padded = pad_sequences(training_sequences, maxlen=max_length, padding=padding_type, truncating=trunc_type)\n",
    "\n",
    "# Generate and pad the testing sequences\n",
    "testing_sequences = tokenizer.texts_to_sequences(testing_sentences)\n",
    "testing_padded = pad_sequences(testing_sequences, maxlen=max_length, padding=padding_type, truncating=trunc_type)\n",
    "\n",
    "# Convert the labels lists into numpy arrays\n",
    "training_labels = np.array(training_labels)\n",
    "testing_labels = np.array(testing_labels)"
   ]
  },
  {
   "cell_type": "code",
   "execution_count": 30,
   "metadata": {},
   "outputs": [
    {
     "name": "stdout",
     "output_type": "stream",
     "text": [
      "Model: \"sequential_6\"\n",
      "_________________________________________________________________\n",
      "Layer (type)                 Output Shape              Param #   \n",
      "=================================================================\n",
      "embedding_6 (Embedding)      (None, 32, 16)            320000    \n",
      "_________________________________________________________________\n",
      "global_average_pooling1d_6 ( (None, 16)                0         \n",
      "_________________________________________________________________\n",
      "dense_12 (Dense)             (None, 24)                408       \n",
      "_________________________________________________________________\n",
      "dense_13 (Dense)             (None, 1)                 25        \n",
      "=================================================================\n",
      "Total params: 320,433\n",
      "Trainable params: 320,433\n",
      "Non-trainable params: 0\n",
      "_________________________________________________________________\n"
     ]
    }
   ],
   "source": [
    "import tensorflow as tf\n",
    "\n",
    "# Build the model\n",
    "model = tf.keras.Sequential([\n",
    "    tf.keras.layers.Embedding(vocab_size, embedding_dim, input_length=max_length),\n",
    "    tf.keras.layers.GlobalAveragePooling1D(),\n",
    "    tf.keras.layers.Dense(24, activation='relu'),\n",
    "    tf.keras.layers.Dense(1, activation='sigmoid')\n",
    "])\n",
    "\n",
    "# Print the model summary\n",
    "model.summary()\n",
    "model.compile(loss='binary_crossentropy',optimizer='adam',metrics=['accuracy'])"
   ]
  },
  {
   "cell_type": "code",
   "execution_count": 31,
   "metadata": {},
   "outputs": [
    {
     "name": "stdout",
     "output_type": "stream",
     "text": [
      "Train on 20000 samples, validate on 6709 samples\n",
      "Epoch 1/30\n",
      "20000/20000 - 4s - loss: 0.5553 - accuracy: 0.7044 - val_loss: 0.3880 - val_accuracy: 0.8365\n",
      "Epoch 2/30\n",
      "20000/20000 - 4s - loss: 0.2941 - accuracy: 0.8841 - val_loss: 0.3383 - val_accuracy: 0.8560\n",
      "Epoch 3/30\n",
      "20000/20000 - 4s - loss: 0.2003 - accuracy: 0.9241 - val_loss: 0.3435 - val_accuracy: 0.8581\n",
      "Epoch 4/30\n",
      "20000/20000 - 3s - loss: 0.1452 - accuracy: 0.9478 - val_loss: 0.3775 - val_accuracy: 0.8506\n",
      "Epoch 5/30\n",
      "20000/20000 - 4s - loss: 0.1040 - accuracy: 0.9658 - val_loss: 0.4067 - val_accuracy: 0.8492\n",
      "Epoch 6/30\n",
      "20000/20000 - 4s - loss: 0.0769 - accuracy: 0.9771 - val_loss: 0.4525 - val_accuracy: 0.8472\n",
      "Epoch 7/30\n",
      "20000/20000 - 4s - loss: 0.0560 - accuracy: 0.9841 - val_loss: 0.5073 - val_accuracy: 0.8404\n",
      "Epoch 8/30\n",
      "20000/20000 - 4s - loss: 0.0409 - accuracy: 0.9885 - val_loss: 0.5694 - val_accuracy: 0.8393\n",
      "Epoch 9/30\n",
      "20000/20000 - 4s - loss: 0.0285 - accuracy: 0.9934 - val_loss: 0.6318 - val_accuracy: 0.8354\n",
      "Epoch 10/30\n",
      "20000/20000 - 4s - loss: 0.0214 - accuracy: 0.9952 - val_loss: 0.7041 - val_accuracy: 0.8280\n",
      "Epoch 11/30\n",
      "20000/20000 - 3s - loss: 0.0152 - accuracy: 0.9971 - val_loss: 0.7630 - val_accuracy: 0.8290\n",
      "Epoch 12/30\n",
      "20000/20000 - 3s - loss: 0.0100 - accuracy: 0.9982 - val_loss: 0.8532 - val_accuracy: 0.8261\n",
      "Epoch 13/30\n",
      "20000/20000 - 4s - loss: 0.0069 - accuracy: 0.9988 - val_loss: 0.9275 - val_accuracy: 0.8262\n",
      "Epoch 14/30\n",
      "20000/20000 - 4s - loss: 0.0046 - accuracy: 0.9994 - val_loss: 0.9969 - val_accuracy: 0.8240\n",
      "Epoch 15/30\n",
      "20000/20000 - 4s - loss: 0.0034 - accuracy: 0.9995 - val_loss: 1.0861 - val_accuracy: 0.8229\n",
      "Epoch 16/30\n",
      "20000/20000 - 4s - loss: 0.0025 - accuracy: 0.9997 - val_loss: 1.1470 - val_accuracy: 0.8204\n",
      "Epoch 17/30\n",
      "20000/20000 - 4s - loss: 0.0018 - accuracy: 0.9998 - val_loss: 1.2109 - val_accuracy: 0.8190\n",
      "Epoch 18/30\n",
      "20000/20000 - 3s - loss: 0.0012 - accuracy: 0.9999 - val_loss: 1.2972 - val_accuracy: 0.8171\n",
      "Epoch 19/30\n",
      "20000/20000 - 4s - loss: 0.0010 - accuracy: 1.0000 - val_loss: 1.3582 - val_accuracy: 0.8179\n",
      "Epoch 20/30\n",
      "20000/20000 - 4s - loss: 6.5646e-04 - accuracy: 1.0000 - val_loss: 1.4194 - val_accuracy: 0.8170\n",
      "Epoch 21/30\n",
      "20000/20000 - 4s - loss: 3.8985e-04 - accuracy: 1.0000 - val_loss: 1.4882 - val_accuracy: 0.8165\n",
      "Epoch 22/30\n",
      "20000/20000 - 4s - loss: 2.4079e-04 - accuracy: 1.0000 - val_loss: 1.5357 - val_accuracy: 0.8159\n",
      "Epoch 23/30\n",
      "20000/20000 - 3s - loss: 0.0013 - accuracy: 0.9995 - val_loss: 1.5943 - val_accuracy: 0.8161\n",
      "Epoch 24/30\n",
      "20000/20000 - 3s - loss: 0.0013 - accuracy: 0.9997 - val_loss: 1.6854 - val_accuracy: 0.8076\n",
      "Epoch 25/30\n",
      "20000/20000 - 4s - loss: 3.3255e-04 - accuracy: 1.0000 - val_loss: 1.7231 - val_accuracy: 0.8107\n",
      "Epoch 26/30\n",
      "20000/20000 - 4s - loss: 1.2299e-04 - accuracy: 1.0000 - val_loss: 1.7600 - val_accuracy: 0.8126\n",
      "Epoch 27/30\n",
      "20000/20000 - 4s - loss: 5.8091e-05 - accuracy: 1.0000 - val_loss: 1.7881 - val_accuracy: 0.8119\n",
      "Epoch 28/30\n",
      "20000/20000 - 3s - loss: 3.8758e-05 - accuracy: 1.0000 - val_loss: 1.8182 - val_accuracy: 0.8131\n",
      "Epoch 29/30\n",
      "20000/20000 - 3s - loss: 3.4176e-05 - accuracy: 1.0000 - val_loss: 1.8446 - val_accuracy: 0.8116\n",
      "Epoch 30/30\n",
      "20000/20000 - 3s - loss: 2.7091e-05 - accuracy: 1.0000 - val_loss: 1.8799 - val_accuracy: 0.8114\n"
     ]
    }
   ],
   "source": [
    "num_epochs = 30\n",
    "\n",
    "# Train the model\n",
    "history = model.fit(training_padded, training_labels, epochs=num_epochs, validation_data=(testing_padded, testing_labels), verbose=2)"
   ]
  },
  {
   "cell_type": "code",
   "execution_count": 32,
   "metadata": {},
   "outputs": [
    {
     "data": {
      "image/png": "[encoded data removed]",
      "text/plain": [
       "<Figure size 432x288 with 1 Axes>"
      ]
     },
     "metadata": {
      "needs_background": "light"
     },
     "output_type": "display_data"
    },
    {
     "data": {
      "image/png": "[encoded data removed]",
      "text/plain": [
       "<Figure size 432x288 with 1 Axes>"
      ]
     },
     "metadata": {
      "needs_background": "light"
     },
     "output_type": "display_data"
    }
   ],
   "source": [
    "import matplotlib.pyplot as plt\n",
    "\n",
    "# Plot utility\n",
    "def plot_graphs(history, string):\n",
    "  plt.plot(history.history[string])\n",
    "  plt.plot(history.history['val_'+string])\n",
    "  plt.xlabel(\"Epochs\")\n",
    "  plt.ylabel(string)\n",
    "  plt.legend([string, 'val_'+string])\n",
    "  plt.show()\n",
    "  \n",
    "# Plot the accuracy and loss\n",
    "plot_graphs(history, \"accuracy\")\n",
    "plot_graphs(history, \"loss\")"
   ]
  },
  {
   "cell_type": "code",
   "execution_count": null,
   "metadata": {},
   "outputs": [],
   "source": []
  }
 ],
 "metadata": {
  "kernelspec": {
   "display_name": "Python 3",
   "language": "python",
   "name": "python3"
  },
  "language_info": {
   "codemirror_mode": {
    "name": "ipython",
    "version": 3
   },
   "file_extension": ".py",
   "mimetype": "text/x-python",
   "name": "python",
   "nbconvert_exporter": "python",
   "pygments_lexer": "ipython3",
   "version": "3.6.9"
  }
 },
 "nbformat": 4,
 "nbformat_minor": 4
}
